{
 "cells": [
  {
   "cell_type": "markdown",
   "metadata": {},
   "source": [
    "# Distribution of vegetation in a landscape of heterogeneous predation risk"
   ]
  },
  {
   "cell_type": "code",
   "execution_count": null,
   "metadata": {},
   "outputs": [],
   "source": [
    "# importing libraries\n",
    "\n",
    "import numpy as np\n",
    "from matplotlib import pyplot as plt\n",
    "import math\n",
    "from itertools import permutations as perm\n",
    "\n",
    "# Notebook parameters\n",
    "\n",
    "plt.rcParams['figure.figsize'] = [8, 8]\n",
    "plt.rcParams['font.size'] = 20"
   ]
  },
  {
   "cell_type": "markdown",
   "metadata": {},
   "source": [
    "## Defining initialisation functions"
   ]
  },
  {
   "cell_type": "code",
   "execution_count": null,
   "metadata": {},
   "outputs": [],
   "source": [
    "# Defining resource matrix\n",
    "\n",
    "def veg(N):\n",
    "    \n",
    "    # Starting with resoource available everywhere\n",
    "    \n",
    "    V = np.full((N, N), 1)\n",
    "\n",
    "    return V\n",
    "\n",
    "# test plot\n",
    "\n",
    "plt.matshow(veg(50))\n",
    "plt.colorbar()"
   ]
  },
  {
   "cell_type": "code",
   "execution_count": null,
   "metadata": {},
   "outputs": [],
   "source": [
    "# Creating list of fish in the landscape\n",
    "\n",
    "def fish_vec(n, N):\n",
    "\n",
    "    # n = initial number of fish\n",
    "    # N = size of the landscape\n",
    "\n",
    "    # Iniital position at the center\n",
    "\n",
    "    x = int(N/2); y = int(N/2)\n",
    "\n",
    "    # Data for a single fish\n",
    "\n",
    "    fish = np.array([(x,y), 0], # [(position), starvation time]\n",
    "    dtype='object')\n",
    "\n",
    "    fish_pop = np.full((n,2), fish, dtype='object')\n",
    "\n",
    "    return fish_pop\n",
    "\n",
    "# test\n",
    "\n",
    "print(fish_vec(5, 50))"
   ]
  },
  {
   "cell_type": "code",
   "execution_count": null,
   "metadata": {},
   "outputs": [],
   "source": [
    "# summarising fish density in the landscape\n",
    "\n",
    "def fish_mat(fish_pop, N):\n",
    "\n",
    "    # creating an empty matrix for fish\n",
    "\n",
    "    F =  np.zeros((N, N))\n",
    "\n",
    "    # Extracting fish positioins\n",
    "\n",
    "    fish_pos = fish_pop[:,0]\n",
    "\n",
    "    # Summing number of fish in each cell\n",
    "\n",
    "    for index, value in np.ndenumerate(F):\n",
    "\n",
    "        for f in fish_pos:\n",
    "\n",
    "            if index == f:\n",
    "\n",
    "                F[index] += 1\n",
    "\n",
    "    return F\n",
    "\n",
    "# test\n",
    "\n",
    "fish_pop = fish_vec(20, 50)\n",
    "\n",
    "plt.matshow(fish_mat(fish_pop, 50))\n",
    "plt.colorbar()"
   ]
  },
  {
   "cell_type": "code",
   "execution_count": null,
   "metadata": {},
   "outputs": [],
   "source": [
    "# Defining predation risk maatrix\n",
    "\n",
    "def risk(N):\n",
    "\n",
    "    # defining a N x N matrix\n",
    "\n",
    "    R =  np.zeros((N, N))\n",
    "\n",
    "    # Creating a gradient of predation risk\n",
    "\n",
    "    c = N/2 # center of the array\n",
    "\n",
    "    for index, value in np.ndenumerate(R):\n",
    "\n",
    "        # Calculating distinace from the center\n",
    "    \n",
    "        dist =  math.sqrt((c - index[0])**2 + (c - index[1])**2)\n",
    "\n",
    "        # Asymptotic increase of predation risk from center \n",
    "\n",
    "        value = (dist/(10 + dist))*100\n",
    "\n",
    "        # updating value\n",
    "    \n",
    "        R[index] = value\n",
    "\n",
    "    return R\n",
    "\n",
    "# test plot\n",
    "\n",
    "plt.matshow(risk(50))\n",
    "plt.colorbar()"
   ]
  },
  {
   "cell_type": "markdown",
   "metadata": {},
   "source": [
    "## Defining update functions"
   ]
  },
  {
   "cell_type": "code",
   "execution_count": null,
   "metadata": {},
   "outputs": [],
   "source": [
    "# spread and regeneration of vegetation\n",
    "\n",
    "def veg_update(veg_mat):\n",
    "\n",
    "    N = np.shape(veg_mat) # getting shape of vegetation matrix\n",
    "\n",
    "    for index, value in np.ndenumerate(veg_mat):\n",
    "\n",
    "        if value == 0:\n",
    "\n",
    "            adj = [] # empty list of adjascent cells\n",
    "\n",
    "            # getting list of adjascent cells\n",
    "\n",
    "            for dx in [-1, 0, 1]:\n",
    "\n",
    "                for dy  in [-1, 0, 1]:\n",
    "\n",
    "                    x = index[0] + dx # horizontal\n",
    "\n",
    "                    y = index[1] + dy # vertical\n",
    "\n",
    "                    # Periodic boundaries\n",
    "\n",
    "                    if x > N[0]-1: \n",
    "\n",
    "                        x = x - (N[0] - 1)\n",
    "\n",
    "                        adj.append((x, y))\n",
    "\n",
    "                    elif y > N[1] - 1:\n",
    "\n",
    "                        y = y - N[1] - 1\n",
    "\n",
    "                        adj.append((x, y))\n",
    "\n",
    "                    else:\n",
    "                \n",
    "                        adj.append((x, y))\n",
    "\n",
    "            # Spread of vegetation\n",
    "\n",
    "            ## Getting values from adjascent cells\n",
    "\n",
    "            adj_veg = []\n",
    "\n",
    "            for cell in adj:\n",
    "\n",
    "                adj_veg.append(veg_mat[cell])\n",
    "            \n",
    "            ## checking if neighbours are present\n",
    "\n",
    "            if all(x == 0 for x in adj_veg):\n",
    "\n",
    "                break\n",
    "            \n",
    "            else:\n",
    "                \n",
    "                # updating value \n",
    "\n",
    "                veg_mat[index] = int(np.random.choice(a = [0,1], p =  [0.5, 0.5])) # p = 0.5\n",
    "\n",
    "    return(veg_mat)\n",
    "\n",
    "# Test\n",
    "\n",
    "V = veg(50)\n",
    "\n",
    "for dx in range(10):\n",
    "\n",
    "    for dy in range(10):\n",
    "\n",
    "        V[dx, dy] = 0\n",
    "\n",
    "V = veg_update(V)\n",
    "\n",
    "plt.matshow(V)\n",
    "plt.colorbar()\n"
   ]
  },
  {
   "cell_type": "code",
   "execution_count": 165,
   "metadata": {},
   "outputs": [
    {
     "data": {
      "text/plain": [
       "<matplotlib.colorbar.Colorbar at 0x17b79971520>"
      ]
     },
     "execution_count": 165,
     "metadata": {},
     "output_type": "execute_result"
    },
    {
     "data": {
      "image/png": "[encoded data removed]",
      "text/plain": [
       "<Figure size 576x576 with 2 Axes>"
      ]
     },
     "metadata": {
      "needs_background": "light"
     },
     "output_type": "display_data"
    }
   ],
   "source": [
    "# updating fish positions\n",
    "\n",
    "def fish_mov(fish_pop):\n",
    "\n",
    "    index = 0\n",
    "\n",
    "    for f in fish_pop:\n",
    "\n",
    "        # 2 - D unbiased random walk\n",
    "\n",
    "        dx = f[0][0] + np.random.choice(a = [-1,1], p = [0.5, 0.5])\n",
    "        dy = f[0][1] + np.random.choice(a = [-1,1], p = [0.5, 0.5])\n",
    "\n",
    "        # Periodic boundaries\n",
    "\n",
    "        if dx >= 50:\n",
    "\n",
    "            dx = dx - 50\n",
    "        \n",
    "        if dy >= 50:\n",
    "\n",
    "            dy = dy - 50\n",
    "\n",
    "        fish_pop[index][0] = (dx, dy)\n",
    "\n",
    "        index += 1\n",
    "\n",
    "    return fish_pop\n",
    "\n",
    "# Test\n",
    "\n",
    "fish_pop = fish_vec(20, 50)\n",
    "\n",
    "fish_t1 = fish_mov(fish_pop)\n",
    "\n",
    "plt.matshow(fish_mat(fish_t1, 50))\n",
    "plt.colorbar()"
   ]
  },
  {
   "cell_type": "code",
   "execution_count": null,
   "metadata": {},
   "outputs": [],
   "source": [
    "# Fish reproduction\n",
    "\n",
    "def fish_rep(fish_pop):\n",
    "\n",
    "    for f in fish_pop:\n",
    "\n",
    "        rep = np.random.choice(a = [0,1], p = [0.99, 0.01]) # P(reproduce) = 0.01\n",
    "\n",
    "        if rep == 1:\n",
    "\n",
    "            f[1] = 0 #resetting starvation clock\n",
    "\n",
    "            fish_pop = np.append(fish_pop, [f], axis = 0)\n",
    "\n",
    "\n",
    "# Test\n",
    "\n",
    "fish_pop = fish_vec(20, 50)\n",
    "\n",
    "print(len(fish_rep(fish_pop)))"
   ]
  },
  {
   "cell_type": "code",
   "execution_count": 158,
   "metadata": {},
   "outputs": [],
   "source": [
    "# Fish starvation\n",
    "\n",
    "def fish_starve(fish_pop):\n",
    "    \n",
    "    index = 0\n",
    "\n",
    "    for f in fish_pop:\n",
    "\n",
    "        # At t_S = 10, fish dies\n",
    "\n",
    "        if f[1] == 10:\n",
    "\n",
    "            fish_pop = np.delete(fish_pop, index)\n",
    "        \n",
    "        else:\n",
    "\n",
    "            # Starvation clock increases with each time step\n",
    "\n",
    "            fish_pop[index, 1] = fish_pop[index, 1] + 1\n",
    "\n",
    "        \n",
    "        index += 1\n",
    "\n",
    "    return fish_pop\n",
    "\n",
    "# Test\n",
    "\n"
   ]
  },
  {
   "cell_type": "code",
   "execution_count": 142,
   "metadata": {},
   "outputs": [
    {
     "data": {
      "text/plain": [
       "<matplotlib.colorbar.Colorbar at 0x17b7862a7c0>"
      ]
     },
     "execution_count": 142,
     "metadata": {},
     "output_type": "execute_result"
    },
    {
     "data": {
      "image/png": "[encoded data removed]",
      "text/plain": [
       "<Figure size 576x576 with 2 Axes>"
      ]
     },
     "metadata": {
      "needs_background": "light"
     },
     "output_type": "display_data"
    }
   ],
   "source": [
    "# Fish feeding\n",
    "\n",
    "def fish_feed(fish_pop, veg_mat):\n",
    "\n",
    "    index = 0\n",
    "\n",
    "    for f in fish_pop:\n",
    "\n",
    "        # Check if vegetation is present\n",
    "\n",
    "        if veg_mat[f[0]] == 1:\n",
    "\n",
    "            # Fish eats the vegetations \n",
    "\n",
    "            # Veg disappears\n",
    "\n",
    "            veg_mat[f[0]] = 0\n",
    "\n",
    "            # Fish starvation clock starts over\n",
    "\n",
    "            fish_pop[index, 1] = 0\n",
    "        \n",
    "        index += 1\n",
    "    \n",
    "    return veg_mat, fish_pop\n",
    "\n",
    "# Test\n",
    "\n",
    "fish_pop = fish_vec(20, 50)\n",
    "\n",
    "veg_mat = veg(50)\n",
    "\n",
    "veg_mat, fish_pop = fish_feed(fish_pop, veg_mat)\n",
    "\n",
    "plt.matshow(veg_mat)\n",
    "plt.colorbar()\n"
   ]
  },
  {
   "cell_type": "markdown",
   "metadata": {},
   "source": [
    "## Simulating "
   ]
  },
  {
   "cell_type": "code",
   "execution_count": 143,
   "metadata": {},
   "outputs": [],
   "source": [
    "# Defining simulation parameters\n",
    "\n",
    "T_max = 100 # time for the simulation\n",
    "N = 50 # length of side for N x N matrix\n",
    "n = 20 # initial number of fish"
   ]
  },
  {
   "cell_type": "code",
   "execution_count": 147,
   "metadata": {},
   "outputs": [],
   "source": [
    "# Initialising the landscape\n",
    "\n",
    "fish_pop = fish_vec(n, N) # fish population\n",
    "veg_mat = veg(N) # resource matrix\n",
    "alpha = risk(N) # risk matrix\n"
   ]
  },
  {
   "cell_type": "code",
   "execution_count": 166,
   "metadata": {},
   "outputs": [],
   "source": [
    "for t in range(T_max+1):\n",
    "\n",
    "    # Updating resource values\n",
    "\n",
    "    veg_mat = veg_update(veg_mat)\n",
    "\n",
    "    # Fish feeding\n",
    "\n",
    "    veg_mat, fish_pop = fish_feed(fish_pop, veg_mat)\n",
    "\n",
    "    # Fish starvation and death\n",
    "\n",
    "    #fish_pop = fish_starve(fish_pop)\n",
    "\n",
    "    # Fish reproduce\n",
    "\n",
    "    fish_pop = fish_rep(fish_pop)\n",
    "\n",
    "    # Fish movement\n",
    "\n",
    "    fish_pop = fish_mov(fish_pop)\n",
    "\n"
   ]
  },
  {
   "cell_type": "code",
   "execution_count": 167,
   "metadata": {},
   "outputs": [
    {
     "data": {
      "text/plain": [
       "<matplotlib.colorbar.Colorbar at 0x17b7824bbe0>"
      ]
     },
     "execution_count": 167,
     "metadata": {},
     "output_type": "execute_result"
    },
    {
     "data": {
      "image/png": "[encoded data removed]",
      "text/plain": [
       "<Figure size 576x576 with 2 Axes>"
      ]
     },
     "metadata": {
      "needs_background": "light"
     },
     "output_type": "display_data"
    }
   ],
   "source": [
    "plt.matshow(veg_mat)\n",
    "plt.colorbar()"
   ]
  },
  {
   "cell_type": "code",
   "execution_count": 169,
   "metadata": {},
   "outputs": [
    {
     "data": {
      "text/plain": [
       "<matplotlib.colorbar.Colorbar at 0x17b7870bfa0>"
      ]
     },
     "execution_count": 169,
     "metadata": {},
     "output_type": "execute_result"
    },
    {
     "data": {
      "image/png": "[encoded data removed]",
      "text/plain": [
       "<Figure size 576x576 with 2 Axes>"
      ]
     },
     "metadata": {
      "needs_background": "light"
     },
     "output_type": "display_data"
    }
   ],
   "source": [
    "plt.matshow(fish_mat(fish_pop, N))\n",
    "plt.colorbar()"
   ]
  }
 ],
 "metadata": {
  "interpreter": {
   "hash": "547842bcb58985e1816b4850560b627218256aed159d7ce429e72ef26ceb118d"
  },
  "kernelspec": {
   "display_name": "Python 3.8.8 64-bit ('base': conda)",
   "name": "python3"
  },
  "language_info": {
   "codemirror_mode": {
    "name": "ipython",
    "version": 3
   },
   "file_extension": ".py",
   "mimetype": "text/x-python",
   "name": "python",
   "nbconvert_exporter": "python",
   "pygments_lexer": "ipython3",
   "version": "3.8.8"
  },
  "orig_nbformat": 4
 },
 "nbformat": 4,
 "nbformat_minor": 2
}
