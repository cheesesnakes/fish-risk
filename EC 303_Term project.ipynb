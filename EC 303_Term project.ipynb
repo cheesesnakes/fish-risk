{
 "cells": [
  {
   "cell_type": "markdown",
   "metadata": {},
   "source": [
    "# Distribution of vegetation in a landscape of heterogeneous predation risk"
   ]
  },
  {
   "cell_type": "code",
   "execution_count": 16,
   "metadata": {},
   "outputs": [],
   "source": [
    "# importing libraries\n",
    "\n",
    "import numpy as np\n",
    "from matplotlib import pyplot as plt\n",
    "import math\n",
    "from itertools import permutations as perm\n",
    "\n",
    "# Notebook parameters\n",
    "\n",
    "plt.rcParams['figure.figsize'] = [8, 8]\n",
    "plt.rcParams['font.size'] = 20"
   ]
  },
  {
   "cell_type": "markdown",
   "metadata": {},
   "source": [
    "## Defining initialisation functions"
   ]
  },
  {
   "cell_type": "code",
   "execution_count": 2,
   "metadata": {},
   "outputs": [],
   "source": [
    "# Defining resource matrix\n",
    "\n",
    "def veg(N):\n",
    "    \n",
    "    # Starting with resoource available everywhere\n",
    "    \n",
    "    V = np.full((N, N), 1)\n",
    "\n",
    "    return V\n",
    "\n",
    "# test plot\n",
    "\n",
    "plt.matshow(veg(50))\n",
    "plt.colorbar()"
   ]
  },
  {
   "cell_type": "code",
   "execution_count": 4,
   "metadata": {},
   "outputs": [],
   "source": [
    "# Defining fish matrix\n",
    "\n",
    "def fish(N):\n",
    "\n",
    "    # Defining a N x N matrix\n",
    "\n",
    "    F =  np.zeros((N, N))\n",
    "\n",
    "    # Placing 20 fish at the center\n",
    "\n",
    "    c =  int(N/2)\n",
    "    \n",
    "    F[c, c] = 20\n",
    "\n",
    "    return F\n",
    "\n",
    "# test plot\n",
    "\n",
    "plt.matshow(fish(50))\n",
    "plt.colorbar()"
   ]
  },
  {
   "cell_type": "code",
   "execution_count": 6,
   "metadata": {},
   "outputs": [],
   "source": [
    "# Defining predation risk maatrix\n",
    "\n",
    "def risk(N):\n",
    "\n",
    "    # defining a N x N matrix\n",
    "\n",
    "    R =  np.zeros((N, N))\n",
    "\n",
    "    # Creating a gradient of predation risk\n",
    "\n",
    "    c = N/2 # center of the array\n",
    "\n",
    "    for index, value in np.ndenumerate(R):\n",
    "\n",
    "        # Calculating distinace from the center\n",
    "    \n",
    "        dist =  math.sqrt((c - index[0])**2 + (c - index[1])**2)\n",
    "\n",
    "        # Asymptotic increase of predation risk from center \n",
    "\n",
    "        value = (dist/(10 + dist))*100\n",
    "\n",
    "        # updating value\n",
    "    \n",
    "        R[index] = value\n",
    "\n",
    "    return R\n",
    "\n",
    "# test plot\n",
    "\n",
    "plt.matshow(risk(50))\n",
    "plt.colorbar()"
   ]
  },
  {
   "cell_type": "markdown",
   "metadata": {},
   "source": [
    "## Defining update functions"
   ]
  },
  {
   "cell_type": "code",
   "execution_count": 120,
   "metadata": {},
   "outputs": [],
   "source": [
    "# spread and regeneration of vegetation\n",
    "\n",
    "def veg_update(veg_mat):\n",
    "\n",
    "    N = np.shape(veg_mat) # getting shape of vegetation matrix\n",
    "\n",
    "    for index, value in np.ndenumerate(veg_mat):\n",
    "\n",
    "        if value == 0:\n",
    "\n",
    "            adj = [] # empty list of adjascent cells\n",
    "\n",
    "            # getting list of adjascent cells\n",
    "\n",
    "            for dx in [-1, 0, 1]:\n",
    "\n",
    "                for dy  in [-1, 0, 1]:\n",
    "\n",
    "                    x = index[0] + dx # horizontal\n",
    "\n",
    "                    y = index[1] + dy # vertical\n",
    "\n",
    "                    if x > N[0]-1 or y > N[1]-1: # enforcing boundaries\n",
    "\n",
    "                        break\n",
    "\n",
    "                    else:\n",
    "                \n",
    "                        adj.append((x, y))\n",
    "\n",
    "            # Spread of vegetation\n",
    "\n",
    "            ## Getting values from adjascent cells\n",
    "\n",
    "            adj_veg = []\n",
    "\n",
    "            for cell in adj:\n",
    "\n",
    "                adj_veg.append(veg_mat[cell])\n",
    "            \n",
    "            ## checking if neighbours are present\n",
    "\n",
    "            if all(x == 0 for x in adj_veg):\n",
    "\n",
    "                break\n",
    "            \n",
    "            else:\n",
    "                \n",
    "                # updating value \n",
    "\n",
    "                veg_mat[index] = int(np.random.choice(a = [0,1], p =  [0.5, 0.5])) # p = 0.5\n",
    "\n",
    "    return(veg_mat)\n",
    "\n",
    "# Test\n",
    "\n",
    "V = veg(50)\n",
    "\n",
    "for dx in range(10):\n",
    "\n",
    "    for dy in range(10):\n",
    "\n",
    "        V[dx, dy] = 0\n",
    "\n",
    "plt.matshow(V)\n",
    "plt.colorbar()\n",
    "\n",
    "V = veg_update(V)\n",
    "\n",
    "plt.matshow(V)\n",
    "plt.colorbar()\n"
   ]
  },
  {
   "cell_type": "code",
   "execution_count": null,
   "metadata": {},
   "outputs": [],
   "source": []
  }
 ],
 "metadata": {
  "interpreter": {
   "hash": "547842bcb58985e1816b4850560b627218256aed159d7ce429e72ef26ceb118d"
  },
  "kernelspec": {
   "display_name": "Python 3.8.8 64-bit ('base': conda)",
   "name": "python3"
  },
  "language_info": {
   "codemirror_mode": {
    "name": "ipython",
    "version": 3
   },
   "file_extension": ".py",
   "mimetype": "text/x-python",
   "name": "python",
   "nbconvert_exporter": "python",
   "pygments_lexer": "ipython3",
   "version": "3.8.8"
  },
  "orig_nbformat": 4
 },
 "nbformat": 4,
 "nbformat_minor": 2
}
